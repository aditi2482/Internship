{
 "cells": [
  {
   "cell_type": "markdown",
   "id": "1eb3724b",
   "metadata": {},
   "source": [
    "# Python Worksheet1"
   ]
  },
  {
   "cell_type": "code",
   "execution_count": 1,
   "id": "b40b256e",
   "metadata": {},
   "outputs": [],
   "source": [
    "#1. Program to find a factorial of a number"
   ]
  },
  {
   "cell_type": "code",
   "execution_count": 2,
   "id": "8c8741de",
   "metadata": {},
   "outputs": [],
   "source": [
    "import math"
   ]
  },
  {
   "cell_type": "code",
   "execution_count": 3,
   "id": "6ded6d5c",
   "metadata": {},
   "outputs": [
    {
     "name": "stdout",
     "output_type": "stream",
     "text": [
      "Enter the number whose factorial you want to find: 4\n",
      "The factorial of the number is: \n",
      "24\n"
     ]
    }
   ],
   "source": [
    "n = int (input (\"Enter the number whose factorial you want to find: \"))\n",
    "print (\"The factorial of the number is: \")\n",
    "print (math.factorial(n))"
   ]
  },
  {
   "cell_type": "code",
   "execution_count": 4,
   "id": "4a424865",
   "metadata": {},
   "outputs": [],
   "source": [
    "#2.Program to find whether the number is prime or composite"
   ]
  },
  {
   "cell_type": "code",
   "execution_count": 5,
   "id": "d0d7bf85",
   "metadata": {},
   "outputs": [
    {
     "name": "stdout",
     "output_type": "stream",
     "text": [
      "Enter any number : 61\n",
      "61 is a PRIME number\n"
     ]
    }
   ],
   "source": [
    "num = int(input(\"Enter any number : \"))\n",
    "if num > 1:\n",
    "    for i in range(2, num):\n",
    "        if (num % i) == 0:\n",
    "            print(num, \"is NOT a prime number\")\n",
    "            break\n",
    "    else:\n",
    "        print(num, \"is a PRIME number\")\n",
    "elif num == 0 or 1:\n",
    "    print(num, \"is a neither prime NOR composite number\")\n",
    "else:\n",
    "    print(num, \"is NOT a prime number it is a COMPOSITE number\")"
   ]
  },
  {
   "cell_type": "code",
   "execution_count": null,
   "id": "9eeeb868",
   "metadata": {},
   "outputs": [],
   "source": [
    "#3.Program to check whether a given string is palindrome or not."
   ]
  },
  {
   "cell_type": "code",
   "execution_count": 6,
   "id": "f6b410d2",
   "metadata": {},
   "outputs": [
    {
     "name": "stdout",
     "output_type": "stream",
     "text": [
      "The string is a palindrome.\n"
     ]
    }
   ],
   "source": [
    "my_str = 'aIbohPhoBiA'\n",
    "\n",
    "# make it suitable for caseless comparison\n",
    "my_str = my_str.casefold()\n",
    "\n",
    "# reverse the string\n",
    "rev_str = reversed(my_str)\n",
    "\n",
    "# check if the string is equal to its reverse\n",
    "if list(my_str) == list(rev_str):\n",
    "   print(\"The string is a palindrome.\")\n",
    "else:\n",
    "   print(\"The string is not a palindrome.\")\n"
   ]
  },
  {
   "cell_type": "code",
   "execution_count": 9,
   "id": "a05b5a41",
   "metadata": {},
   "outputs": [
    {
     "name": "stdout",
     "output_type": "stream",
     "text": [
      "Enter base: 10.5\n",
      "Enter height: 5.5\n",
      "Enter angle: 60\n",
      "Hypotenuse = 11.853269591129697\n"
     ]
    }
   ],
   "source": [
    "#4.Python program to get the third side of right-angled triangle from two given sides.\n",
    "import math\n",
    "\n",
    "a = float(input(\"Enter base: \"))\n",
    "b = float(input(\"Enter height: \"))\n",
    "x = float(input(\"Enter angle: \"))\n",
    "\n",
    "c = math.sqrt(a ** 2 + b ** 2)\n",
    "\n",
    "print(\"Hypotenuse =\", c)\n"
   ]
  },
  {
   "cell_type": "code",
   "execution_count": 10,
   "id": "8f7d8b7a",
   "metadata": {},
   "outputs": [
    {
     "name": "stdout",
     "output_type": "stream",
     "text": [
      "{'g': 2, 'o': 3, 'l': 1, 'e': 1, '.': 1, 'c': 1, 'm': 1}\n"
     ]
    }
   ],
   "source": [
    "#5.Program to print the frequency of each of the characters present in a given string\n",
    "def char_frequency(str1):\n",
    "    dict = {}\n",
    "    for n in str1:\n",
    "        keys = dict.keys()\n",
    "        if n in keys:\n",
    "            dict[n] += 1\n",
    "        else:\n",
    "            dict[n] = 1\n",
    "    return dict\n",
    "print(char_frequency('google.com'))"
   ]
  },
  {
   "cell_type": "code",
   "execution_count": null,
   "id": "017bca7e",
   "metadata": {},
   "outputs": [],
   "source": []
  },
  {
   "cell_type": "code",
   "execution_count": null,
   "id": "7d70f4cd",
   "metadata": {},
   "outputs": [],
   "source": []
  },
  {
   "cell_type": "code",
   "execution_count": null,
   "id": "b21e8f99",
   "metadata": {},
   "outputs": [],
   "source": []
  },
  {
   "cell_type": "code",
   "execution_count": null,
   "id": "13c54837",
   "metadata": {},
   "outputs": [],
   "source": []
  },
  {
   "cell_type": "code",
   "execution_count": null,
   "id": "23bbb035",
   "metadata": {},
   "outputs": [],
   "source": []
  },
  {
   "cell_type": "code",
   "execution_count": null,
   "id": "ef6967c6",
   "metadata": {},
   "outputs": [],
   "source": []
  }
 ],
 "metadata": {
  "kernelspec": {
   "display_name": "Python 3 (ipykernel)",
   "language": "python",
   "name": "python3"
  },
  "language_info": {
   "codemirror_mode": {
    "name": "ipython",
    "version": 3
   },
   "file_extension": ".py",
   "mimetype": "text/x-python",
   "name": "python",
   "nbconvert_exporter": "python",
   "pygments_lexer": "ipython3",
   "version": "3.9.7"
  }
 },
 "nbformat": 4,
 "nbformat_minor": 5
}
